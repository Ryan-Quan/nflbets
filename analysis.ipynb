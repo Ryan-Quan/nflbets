{
 "cells": [
  {
   "cell_type": "code",
   "execution_count": 6,
   "metadata": {},
   "outputs": [],
   "source": [
    "import pandas as pd\n",
    "import numpy as np\n",
    "import plotly.express as px"
   ]
  },
  {
   "cell_type": "code",
   "execution_count": 28,
   "metadata": {},
   "outputs": [],
   "source": [
    "df = pd.read_csv('spreadspoke_scores.csv')\n",
    "#df = df.dropna(subset=['over_under_line'])\n",
    "df['over_under_line'] = pd.to_numeric(df['over_under_line'], errors='coerce')\n",
    "df['over_under_line'] = df['over_under_line'].astype(float)"
   ]
  },
  {
   "cell_type": "code",
   "execution_count": 29,
   "metadata": {},
   "outputs": [],
   "source": [
    "df1= df[df['over_under_line'] <= df['score_home'] + df['score_away']]"
   ]
  },
  {
   "cell_type": "markdown",
   "metadata": {},
   "source": []
  }
 ],
 "metadata": {
  "kernelspec": {
   "display_name": "Python 3.8.2 32-bit",
   "language": "python",
   "name": "python3"
  },
  "language_info": {
   "codemirror_mode": {
    "name": "ipython",
    "version": 3
   },
   "file_extension": ".py",
   "mimetype": "text/x-python",
   "name": "python",
   "nbconvert_exporter": "python",
   "pygments_lexer": "ipython3",
   "version": "3.8.2"
  },
  "orig_nbformat": 4,
  "vscode": {
   "interpreter": {
    "hash": "6af60f0255d1eca4e68ec68ae11a8c6b99f88e7df944187ea515b6f03212e2d5"
   }
  }
 },
 "nbformat": 4,
 "nbformat_minor": 2
}
